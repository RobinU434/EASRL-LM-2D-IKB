{
 "cells": [
  {
   "cell_type": "code",
   "execution_count": 2,
   "metadata": {},
   "outputs": [],
   "source": [
    "from acquire_data import acquire_curves\n",
    "import numpy as np"
   ]
  },
  {
   "cell_type": "code",
   "execution_count": 6,
   "metadata": {},
   "outputs": [
    {
     "data": {
      "text/plain": [
       "'-5.16 & 0.95 & -15.30 & 1.62 & -32.51 & 2.64 & -47.80 & 3.62'"
      ]
     },
     "execution_count": 6,
     "metadata": {},
     "output_type": "execute_result"
    }
   ],
   "source": [
    "\n",
    "stats = []\n",
    "for n_joints in [2, 5, 10, 15]:\n",
    "    res = acquire_curves(\"sac/baseline\", f\"{n_joints}_\", \"sac/log_prob\")\n",
    "    res = np.stack([r[-50:, 1] for r in res])\n",
    "    stats.append([np.mean(res), np.std(res)])\n",
    "s = \" & \".join(map(lambda x: f\"{x:.2f}\", np.array(stats).flatten().tolist()))\n",
    "s"
   ]
  },
  {
   "cell_type": "code",
   "execution_count": 7,
   "metadata": {},
   "outputs": [
    {
     "data": {
      "text/plain": [
       "'-13.45 & 2.93 & -15.60 & 2.49 & -15.45 & 4.42 & 32.82 & 102.37'"
      ]
     },
     "execution_count": 7,
     "metadata": {},
     "output_type": "execute_result"
    }
   ],
   "source": [
    "\n",
    "stats = []\n",
    "for n_joints in [2, 5, 10, 15]:\n",
    "    res = acquire_curves(\"sac/latent_actor_4\", f\"{n_joints}_\", \"sac/log_prob\")\n",
    "    res = np.stack([r[-50:, 1] for r in res])\n",
    "    stats.append([np.mean(res), np.std(res)])\n",
    "s = \" & \".join(map(lambda x: f\"{x:.2f}\", np.array(stats).flatten().tolist()))\n",
    "s"
   ]
  },
  {
   "cell_type": "code",
   "execution_count": 5,
   "metadata": {},
   "outputs": [
    {
     "data": {
      "text/plain": [
       "'-12.58 & 4.04 & -12.44 & 1.54 & -13.23 & 0.83 & -23.24 & 3.26'"
      ]
     },
     "execution_count": 5,
     "metadata": {},
     "output_type": "execute_result"
    }
   ],
   "source": [
    "stats = []\n",
    "for n_joints in [2, 5, 10, 15]:\n",
    "    res = acquire_curves(\"sac/latent_imitation_4\", f\"{n_joints}_\", \"sac/log_prob\")\n",
    "    res = np.stack([r[-50:, 1] for r in res])\n",
    "    stats.append([np.mean(res), np.std(res)])\n",
    "s = \" & \".join(map(lambda x: f\"{x:.2f}\", np.array(stats).flatten().tolist()))\n",
    "s"
   ]
  },
  {
   "cell_type": "code",
   "execution_count": 9,
   "metadata": {},
   "outputs": [
    {
     "data": {
      "text/plain": [
       "'10.96 & 2.07 & 41.76 & 2.75 & 39.71 & 2.89'"
      ]
     },
     "execution_count": 9,
     "metadata": {},
     "output_type": "execute_result"
    }
   ],
   "source": [
    "\n",
    "stats = []\n",
    "for n_joints in [2, 5, 10]:\n",
    "    res = acquire_curves(\"sac/supervised_imitation\", f\"{n_joints}_\", \"sac/log_prob\")\n",
    "    res = np.stack([r[-50:, 1] for r in res])\n",
    "    stats.append([np.mean(res), np.std(res)])\n",
    "s = \" & \".join(map(lambda x: f\"{x:.2f}\", np.array(stats).flatten().tolist()))\n",
    "s"
   ]
  },
  {
   "cell_type": "code",
   "execution_count": 12,
   "metadata": {},
   "outputs": [
    {
     "data": {
      "text/plain": [
       "'-9.03 & 0.98 & -10.54 & 0.41 & -10.85 & 0.98'"
      ]
     },
     "execution_count": 12,
     "metadata": {},
     "output_type": "execute_result"
    }
   ],
   "source": [
    "stats = []\n",
    "for n_joints in [2, 5, 10]:\n",
    "    res = acquire_curves(\"sac/supervised_dist_loss\", f\"{n_joints}_\", \"sac/log_prob\")\n",
    "    res = np.stack([r[-50:, 1] for r in res])\n",
    "    stats.append([np.mean(res), np.std(res)])\n",
    "s = \" & \".join(map(lambda x: f\"{x:.2f}\", np.array(stats).flatten().tolist()))\n",
    "s"
   ]
  }
 ],
 "metadata": {
  "kernelspec": {
   "display_name": "BT",
   "language": "python",
   "name": "python3"
  },
  "language_info": {
   "codemirror_mode": {
    "name": "ipython",
    "version": 3
   },
   "file_extension": ".py",
   "mimetype": "text/x-python",
   "name": "python",
   "nbconvert_exporter": "python",
   "pygments_lexer": "ipython3",
   "version": "3.8.16"
  },
  "orig_nbformat": 4
 },
 "nbformat": 4,
 "nbformat_minor": 2
}
