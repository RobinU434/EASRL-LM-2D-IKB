{
 "cells": [
  {
   "attachments": {},
   "cell_type": "markdown",
   "metadata": {},
   "source": [
    "# Time complexity CCD\n",
    "\n",
    "This file is to determine the time complexity dependent on the number of joint from the robot arm"
   ]
  },
  {
   "cell_type": "code",
   "execution_count": 2,
   "metadata": {},
   "outputs": [],
   "source": [
    "import math\n",
    "import numpy as np\n",
    "import pandas as pd\n",
    "\n",
    "import matplotlib.pyplot as plt"
   ]
  },
  {
   "cell_type": "code",
   "execution_count": 3,
   "metadata": {},
   "outputs": [],
   "source": [
    "def sample_targets(num_targets):\n",
    "    radius = np.random.uniform(0, 1, num_targets)\n",
    "    theta = np.random.uniform(0, 2 * np.pi, num_targets)\n",
    "\n",
    "    coords = np.zeros((num_targets, 3))\n",
    "    coords[:, 0] = radius * np.cos(theta)\n",
    "    coords[:, 1] = radius * np.sin(theta)\n",
    "\n",
    "    return coords"
   ]
  },
  {
   "cell_type": "code",
   "execution_count": 4,
   "metadata": {},
   "outputs": [],
   "source": [
    "def rotateZ(theta):\n",
    "    rz = np.array([[math.cos(theta), - math.sin(theta), 0, 0],\n",
    "                   [math.sin(theta), math.cos(theta), 0, 0],\n",
    "                   [0, 0, 1, 0],\n",
    "                   [0, 0, 0, 1]])\n",
    "    return rz\n",
    "\n",
    "def translate(dx, dy, dz):\n",
    "    t = np.array([[1, 0, 0, dx],\n",
    "                  [0, 1, 0, dy],\n",
    "                  [0, 0, 1, dz],\n",
    "                  [0, 0, 0, 1]])\n",
    "    return t\n",
    "\n",
    "# Forward Kinematics\n",
    "# Input initial angles and length of links\n",
    "# Output positions each points\n",
    "def FK(angle, link):\n",
    "    n_links = len(link)\n",
    "    P = []\n",
    "    P.append(np.eye(4))\n",
    "    for i in range(0, n_links):\n",
    "        R = rotateZ(angle[i]/180*math.pi)\n",
    "        T = translate(link[i], 0, 0)\n",
    "        P.append(P[-1].dot(R).dot(T))\n",
    "    return P\n",
    "\n",
    "def IK(target, angle, link, max_iter = 10000, err_min = 0.1):\n",
    "    solved = False\n",
    "    err_end_to_target = math.inf\n",
    "    \n",
    "    for loop in range(max_iter):\n",
    "        for i in range(len(link)-1, -1, -1):\n",
    "            P = FK(angle, link)\n",
    "            end_to_target = target - P[-1][:3, 3]\n",
    "            err_end_to_target = math.sqrt(end_to_target[0] ** 2 + end_to_target[1] ** 2)\n",
    "            if err_end_to_target < err_min:\n",
    "                solved = True\n",
    "            else:\n",
    "                # Calculate distance between i-joint position to end effector position\n",
    "                # P[i] is position of current joint\n",
    "                # P[-1] is position of end effector\n",
    "                cur_to_end = P[-1][:3, 3] - P[i][:3, 3]\n",
    "                cur_to_end_mag = math.sqrt(cur_to_end[0] ** 2 + cur_to_end[1] ** 2)\n",
    "                cur_to_target = target - P[i][:3, 3]\n",
    "                cur_to_target_mag = math.sqrt(cur_to_target[0] ** 2 + cur_to_target[1] ** 2)\n",
    "\n",
    "                end_target_mag = cur_to_end_mag * cur_to_target_mag\n",
    "\n",
    "                if end_target_mag <= 0.0001:    \n",
    "                    cos_rot_ang = 1\n",
    "                    sin_rot_ang = 0\n",
    "                else:\n",
    "                    cos_rot_ang = (cur_to_end[0] * cur_to_target[0] + cur_to_end[1] * cur_to_target[1]) / end_target_mag\n",
    "                    sin_rot_ang = (cur_to_end[0] * cur_to_target[1] - cur_to_end[1] * cur_to_target[0]) / end_target_mag\n",
    "\n",
    "                rot_ang = math.acos(max(-1, min(1,cos_rot_ang)))\n",
    "\n",
    "                if sin_rot_ang < 0.0:\n",
    "                    rot_ang = -rot_ang\n",
    "\n",
    "                # Update current joint angle values\n",
    "                angle[i] = angle[i] + (rot_ang * 180 / math.pi)\n",
    "\n",
    "                if angle[i] >= 360:\n",
    "                    angle[i] = angle[i] - 360\n",
    "                if angle[i] < 0:\n",
    "                    angle[i] = 360 + angle[i]\n",
    "                  \n",
    "        if solved:\n",
    "            break\n",
    "            \n",
    "    return angle, err_end_to_target, solved, loop"
   ]
  },
  {
   "cell_type": "code",
   "execution_count": 5,
   "metadata": {},
   "outputs": [
    {
     "name": "stdout",
     "output_type": "stream",
     "text": [
      "joints:  2  num_steps:  2.313  std:  2.480127214479128\n",
      "joints:  4  num_steps:  7.61  std:  12.596821027545007\n"
     ]
    },
    {
     "ename": "KeyboardInterrupt",
     "evalue": "",
     "output_type": "error",
     "traceback": [
      "\u001b[0;31m---------------------------------------------------------------------------\u001b[0m",
      "\u001b[0;31mKeyboardInterrupt\u001b[0m                         Traceback (most recent call last)",
      "Cell \u001b[0;32mIn [5], line 14\u001b[0m\n\u001b[1;32m     11\u001b[0m     start_angles \u001b[39m=\u001b[39m np\u001b[39m.\u001b[39mzeros(n_joint)\n\u001b[1;32m     13\u001b[0m     \u001b[39mfor\u001b[39;00m target_idx, target \u001b[39min\u001b[39;00m \u001b[39menumerate\u001b[39m(targets):\n\u001b[0;32m---> 14\u001b[0m         angles, error, _, loop \u001b[39m=\u001b[39m IK(target, start_angles, link)\n\u001b[1;32m     15\u001b[0m         results[joint_idx, target_idx] \u001b[39m=\u001b[39m loop\n\u001b[1;32m     17\u001b[0m     \u001b[39mprint\u001b[39m(\u001b[39m\"\u001b[39m\u001b[39mjoints: \u001b[39m\u001b[39m\"\u001b[39m, n_joint, \u001b[39m\"\u001b[39m\u001b[39m num_steps: \u001b[39m\u001b[39m\"\u001b[39m, results[joint_idx]\u001b[39m.\u001b[39mmean(), \u001b[39m\"\u001b[39m\u001b[39m std: \u001b[39m\u001b[39m\"\u001b[39m, results[joint_idx]\u001b[39m.\u001b[39mstd\n\u001b[1;32m     18\u001b[0m ())\n",
      "Cell \u001b[0;32mIn [4], line 43\u001b[0m, in \u001b[0;36mIK\u001b[0;34m(target, angle, link, max_iter, err_min)\u001b[0m\n\u001b[1;32m     38\u001b[0m     solved \u001b[39m=\u001b[39m \u001b[39mTrue\u001b[39;00m\n\u001b[1;32m     39\u001b[0m \u001b[39melse\u001b[39;00m:\n\u001b[1;32m     40\u001b[0m     \u001b[39m# Calculate distance between i-joint position to end effector position\u001b[39;00m\n\u001b[1;32m     41\u001b[0m     \u001b[39m# P[i] is position of current joint\u001b[39;00m\n\u001b[1;32m     42\u001b[0m     \u001b[39m# P[-1] is position of end effector\u001b[39;00m\n\u001b[0;32m---> 43\u001b[0m     cur_to_end \u001b[39m=\u001b[39m P[\u001b[39m-\u001b[39m\u001b[39m1\u001b[39m][:\u001b[39m3\u001b[39m, \u001b[39m3\u001b[39m] \u001b[39m-\u001b[39m P[i][:\u001b[39m3\u001b[39;49m, \u001b[39m3\u001b[39;49m]\n\u001b[1;32m     44\u001b[0m     cur_to_end_mag \u001b[39m=\u001b[39m math\u001b[39m.\u001b[39msqrt(cur_to_end[\u001b[39m0\u001b[39m] \u001b[39m*\u001b[39m\u001b[39m*\u001b[39m \u001b[39m2\u001b[39m \u001b[39m+\u001b[39m cur_to_end[\u001b[39m1\u001b[39m] \u001b[39m*\u001b[39m\u001b[39m*\u001b[39m \u001b[39m2\u001b[39m)\n\u001b[1;32m     45\u001b[0m     cur_to_target \u001b[39m=\u001b[39m target \u001b[39m-\u001b[39m P[i][:\u001b[39m3\u001b[39m, \u001b[39m3\u001b[39m]\n",
      "\u001b[0;31mKeyboardInterrupt\u001b[0m: "
     ]
    }
   ],
   "source": [
    "num_targets = 1000\n",
    "\n",
    "# sample targets returns only with radius between 0 and 1\n",
    "# therefore multiply targets with number of joints \n",
    "num_joints = np.linspace(2, 22, 11, dtype=int)\n",
    "results = np.zeros((len(num_joints), num_targets))\n",
    "\n",
    "for joint_idx, n_joint in enumerate(num_joints):\n",
    "    targets = sample_targets(num_targets) * n_joint\n",
    "    link = np.ones(n_joint)\n",
    "    start_angles = np.zeros(n_joint)\n",
    "    \n",
    "    for target_idx, target in enumerate(targets):\n",
    "        angles, error, _, loop = IK(target, start_angles, link)\n",
    "        results[joint_idx, target_idx] = loop\n",
    "\n",
    "    print(\"joints: \", n_joint, \" num_steps: \", results[joint_idx].mean(), \" std: \", results[joint_idx].std\n",
    "())\n",
    "\n",
    "df = pd.DataFrame(results)\n",
    "df.to_csv(\"./ccd_time_complexity.csv\")"
   ]
  },
  {
   "cell_type": "code",
   "execution_count": 9,
   "metadata": {},
   "outputs": [
    {
     "name": "stdout",
     "output_type": "stream",
     "text": [
      "(11, 1000)\n",
      "[  2.562   7.148  16.144  27.125  36.411  48.031  75.949  94.057 104.616\n",
      " 107.845 154.503]\n"
     ]
    },
    {
     "data": {
      "image/png": "[encoded data removed]",
      "text/plain": [
       "<Figure size 640x480 with 1 Axes>"
      ]
     },
     "metadata": {},
     "output_type": "display_data"
    }
   ],
   "source": [
    "df = pd.read_csv(\"./ccd_time_complexity.csv\")\n",
    "results = np.array(df)[:, 1:]\n",
    "print(results.shape)\n",
    "print(results.mean(axis=1)) \n",
    "\n",
    "# plt.errorbar(num_joints, results.mean(axis=1), results.std(axis=1))\n",
    "plt.hist(results[0], 50)\n",
    "\n",
    "# TODO: make 3 dimensional plt horizontal axis = num joints, vertical axis = runtime, color map = buckets from historgrams \n",
    "run_times = []\n",
    "for idx in range(len(results)):\n",
    "    bin_nums, bins, fig = plt.hist(results[-(idx + 1)], 5000)\n",
    "\n",
    "\n",
    "\n",
    "\n"
   ]
  },
  {
   "cell_type": "code",
   "execution_count": 8,
   "metadata": {},
   "outputs": [
    {
     "data": {
      "text/plain": [
       "array([8, 9])"
      ]
     },
     "execution_count": 8,
     "metadata": {},
     "output_type": "execute_result"
    }
   ],
   "source": [
    "\n"
   ]
  }
 ],
 "metadata": {
  "kernelspec": {
   "display_name": "CRL",
   "language": "python",
   "name": "python3"
  },
  "language_info": {
   "codemirror_mode": {
    "name": "ipython",
    "version": 3
   },
   "file_extension": ".py",
   "mimetype": "text/x-python",
   "name": "python",
   "nbconvert_exporter": "python",
   "pygments_lexer": "ipython3",
   "version": "3.8.15"
  },
  "orig_nbformat": 4,
  "vscode": {
   "interpreter": {
    "hash": "59ff37a19ed210ff4f73fe92c04d8ea9551f70c010b27b0184019f58952eae53"
   }
  }
 },
 "nbformat": 4,
 "nbformat_minor": 2
}
